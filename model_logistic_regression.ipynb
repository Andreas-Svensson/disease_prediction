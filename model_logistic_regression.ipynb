{
 "cells": [
  {
   "cell_type": "code",
   "execution_count": 1,
   "metadata": {},
   "outputs": [],
   "source": [
    "import joblib\n",
    "\n",
    "# sklearn\n",
    "from sklearn.linear_model import LogisticRegression\n",
    "from sklearn.metrics import classification_report\n",
    "\n",
    "# import functions from scripts\n",
    "from scripts import times_model_ran, perform_grid_search, evaluate_predictions_plot\n",
    "\n",
    "# import categorical data: \n",
    "from split_data import X_cat_train_scaled_std, X_cat_train_scaled_minmax, y_cat_train # train data\n",
    "from split_data import X_cat_val_scaled_std, X_cat_val_scaled_minmax, y_cat_val # val data\n",
    "\n",
    "# import non-categorical data:\n",
    "from split_data import X_raw_train_scaled_std, X_raw_train_scaled_minmax, y_raw_train # train data\n",
    "from split_data import X_raw_val_scaled_std, X_raw_val_scaled_minmax, y_raw_val # val data"
   ]
  },
  {
   "attachments": {},
   "cell_type": "markdown",
   "metadata": {},
   "source": [
    "# Setup for performing GridSearch\n",
    "\n",
    "### The param_grid variable defined below will be used for tuning all versions of the dataset using Logistic Regression to ensure comparable results  \n",
    "\n",
    "Versions are:  \n",
    "- Categorical Dataset Standardized  \n",
    "- Categorical Dataset Normalized  \n",
    "- Non-Categorical Dataset Standardized  \n",
    "- Non-Categorical Dataset Normalized  "
   ]
  },
  {
   "cell_type": "code",
   "execution_count": 2,
   "metadata": {},
   "outputs": [
    {
     "name": "stdout",
     "output_type": "stream",
     "text": [
      "With the specified parameters, model will be fitted 3200 times\n"
     ]
    }
   ],
   "source": [
    "param_grid = {\n",
    "    'penalty': ['l1', 'l2', 'elasticnet', None],\n",
    "    'C': [0.1, 1, 10],\n",
    "    'solver': ['newton-cg', 'sag', 'lbfgs', 'saga', 'liblinear'],\n",
    "    'max_iter': [5, 25, 100],\n",
    "    'fit_intercept': [True, False]\n",
    "}\n",
    "\n",
    "print(f\"With the specified parameters, model will be fitted {times_model_ran(param_grid)} times\")"
   ]
  },
  {
   "attachments": {},
   "cell_type": "markdown",
   "metadata": {},
   "source": [
    "# Tuning Parameters - Categorical Dataset - Standardized"
   ]
  },
  {
   "cell_type": "code",
   "execution_count": 3,
   "metadata": {},
   "outputs": [
    {
     "name": "stdout",
     "output_type": "stream",
     "text": [
      "Grid search results\n",
      "\n",
      "-------------------\n",
      "\n",
      "'C' best param: 0.1\n",
      " out of: [0.1, 1, 10, 100]\n",
      "\n",
      "'fit_intercept' best param: True\n",
      " out of: [True, False]\n",
      "\n",
      "'max_iter' best param: 1\n",
      " out of: [1, 10, 100, 500]\n",
      "\n",
      "'penalty' best param: l1\n",
      " out of: ['l1', 'l2', 'elasticnet', None]\n",
      "\n",
      "'solver' best param: saga\n",
      " out of: ['newton-cg', 'sag', 'lbfgs', 'saga', 'liblinear']\n",
      "\n",
      "-------------------\n",
      "\n",
      "Best score: 0.6745198172406924\n"
     ]
    }
   ],
   "source": [
    "grid_search_cat_std = perform_grid_search(X_cat_train_scaled_std, y_cat_train, param_grid, LogisticRegression(random_state = 42))"
   ]
  },
  {
   "attachments": {},
   "cell_type": "markdown",
   "metadata": {},
   "source": [
    "# Tuning Parameters - Categorical Dataset - Normalized"
   ]
  },
  {
   "cell_type": "code",
   "execution_count": 5,
   "metadata": {},
   "outputs": [
    {
     "name": "stdout",
     "output_type": "stream",
     "text": [
      "Grid search results\n",
      "\n",
      "-------------------\n",
      "\n",
      "'C' best param: 0.1\n",
      " out of: [0.1, 1, 10, 100]\n",
      "\n",
      "'fit_intercept' best param: False\n",
      " out of: [True, False]\n",
      "\n",
      "'max_iter' best param: 1\n",
      " out of: [1, 10, 100, 500]\n",
      "\n",
      "'penalty' best param: l2\n",
      " out of: ['l1', 'l2', 'elasticnet', None]\n",
      "\n",
      "'solver' best param: saga\n",
      " out of: ['newton-cg', 'sag', 'lbfgs', 'saga', 'liblinear']\n",
      "\n",
      "-------------------\n",
      "\n",
      "Best score: 0.7011417873019287\n"
     ]
    }
   ],
   "source": [
    "grid_search_cat_minmax = perform_grid_search(X_cat_train_scaled_minmax, y_cat_train, param_grid, LogisticRegression(random_state = 42))"
   ]
  },
  {
   "attachments": {},
   "cell_type": "markdown",
   "metadata": {},
   "source": [
    "# Tuning Parameters - Non-Categorical Dataset - Standardized"
   ]
  },
  {
   "cell_type": "code",
   "execution_count": 7,
   "metadata": {},
   "outputs": [
    {
     "name": "stdout",
     "output_type": "stream",
     "text": [
      "Grid search results\n",
      "\n",
      "-------------------\n",
      "\n",
      "'C' best param: 1\n",
      " out of: [0.1, 1, 10, 100]\n",
      "\n",
      "'fit_intercept' best param: True\n",
      " out of: [True, False]\n",
      "\n",
      "'max_iter' best param: 1\n",
      " out of: [1, 10, 100, 500]\n",
      "\n",
      "'penalty' best param: l1\n",
      " out of: ['l1', 'l2', 'elasticnet', None]\n",
      "\n",
      "'solver' best param: saga\n",
      " out of: ['newton-cg', 'sag', 'lbfgs', 'saga', 'liblinear']\n",
      "\n",
      "-------------------\n",
      "\n",
      "Best score: 0.7055152785840443\n"
     ]
    }
   ],
   "source": [
    "grid_search_raw_std = perform_grid_search(X_raw_train_scaled_std, y_raw_train, param_grid, LogisticRegression(random_state = 42))"
   ]
  },
  {
   "attachments": {},
   "cell_type": "markdown",
   "metadata": {},
   "source": [
    "# Tuning Parameters - Non-Categorical Dataset - Normalized"
   ]
  },
  {
   "cell_type": "code",
   "execution_count": 9,
   "metadata": {},
   "outputs": [
    {
     "name": "stdout",
     "output_type": "stream",
     "text": [
      "Grid search results\n",
      "\n",
      "-------------------\n",
      "\n",
      "'C' best param: 0.1\n",
      " out of: [0.1, 1, 10, 100]\n",
      "\n",
      "'fit_intercept' best param: True\n",
      " out of: [True, False]\n",
      "\n",
      "'max_iter' best param: 1\n",
      " out of: [1, 10, 100, 500]\n",
      "\n",
      "'penalty' best param: l2\n",
      " out of: ['l1', 'l2', 'elasticnet', None]\n",
      "\n",
      "'solver' best param: lbfgs\n",
      " out of: ['newton-cg', 'sag', 'lbfgs', 'saga', 'liblinear']\n",
      "\n",
      "-------------------\n",
      "\n",
      "Best score: 0.761959512396557\n"
     ]
    }
   ],
   "source": [
    "grid_search_raw_minmax = perform_grid_search(X_raw_train_scaled_minmax, y_raw_train, param_grid, LogisticRegression(random_state = 42))"
   ]
  },
  {
   "attachments": {},
   "cell_type": "markdown",
   "metadata": {},
   "source": [
    "# Predictions on Validation Data\n",
    "\n",
    "### Categorical"
   ]
  },
  {
   "cell_type": "code",
   "execution_count": 11,
   "metadata": {},
   "outputs": [],
   "source": [
    "# standardized\n",
    "grid_search_cat_std.best_estimator_.get_params() # get best parameters\n",
    "y_cat_std_pred = grid_search_cat_std.predict(X_cat_val_scaled_std) # make predictions on val based on them\n",
    "\n",
    "# normalized\n",
    "grid_search_cat_minmax.best_estimator_.get_params() # get best parameters\n",
    "y_cat_minmax_pred = grid_search_cat_minmax.predict(X_cat_val_scaled_minmax) # make predictions on val based on them"
   ]
  },
  {
   "attachments": {},
   "cell_type": "markdown",
   "metadata": {},
   "source": [
    "### Non-Categorical"
   ]
  },
  {
   "cell_type": "code",
   "execution_count": 12,
   "metadata": {},
   "outputs": [],
   "source": [
    "# standardized\n",
    "grid_search_raw_std.best_estimator_.get_params() # get best parameters\n",
    "y_raw_std_pred = grid_search_raw_std.predict(X_raw_val_scaled_std) # make predictions on val based on them\n",
    "\n",
    "# normalized\n",
    "grid_search_raw_minmax.best_estimator_.get_params() # get best parameters\n",
    "y_raw_minmax_pred = grid_search_raw_minmax.predict(X_raw_val_scaled_minmax) # make predictions on val based on them"
   ]
  },
  {
   "attachments": {},
   "cell_type": "markdown",
   "metadata": {},
   "source": [
    "# Evaluating Performance of Model Versions\n",
    "\n",
    "### Categorical Standardized"
   ]
  },
  {
   "cell_type": "code",
   "execution_count": 13,
   "metadata": {},
   "outputs": [
    {
     "name": "stdout",
     "output_type": "stream",
     "text": [
      "              precision    recall  f1-score   support\n",
      "\n",
      "           0       0.67      0.77      0.72      6673\n",
      "           1       0.73      0.62      0.67      6607\n",
      "\n",
      "    accuracy                           0.70     13280\n",
      "   macro avg       0.70      0.70      0.70     13280\n",
      "weighted avg       0.70      0.70      0.70     13280\n",
      "\n"
     ]
    }
   ],
   "source": [
    "print(classification_report(y_cat_val, y_cat_std_pred))"
   ]
  },
  {
   "attachments": {},
   "cell_type": "markdown",
   "metadata": {},
   "source": [
    "### Categorical Normalized"
   ]
  },
  {
   "cell_type": "code",
   "execution_count": 14,
   "metadata": {},
   "outputs": [
    {
     "name": "stdout",
     "output_type": "stream",
     "text": [
      "              precision    recall  f1-score   support\n",
      "\n",
      "           0       0.68      0.76      0.72      6673\n",
      "           1       0.73      0.63      0.68      6607\n",
      "\n",
      "    accuracy                           0.70     13280\n",
      "   macro avg       0.70      0.70      0.70     13280\n",
      "weighted avg       0.70      0.70      0.70     13280\n",
      "\n"
     ]
    }
   ],
   "source": [
    "print(classification_report(y_cat_val, y_cat_minmax_pred))"
   ]
  },
  {
   "attachments": {},
   "cell_type": "markdown",
   "metadata": {},
   "source": [
    "### Non-Categorical Standardized"
   ]
  },
  {
   "cell_type": "code",
   "execution_count": 15,
   "metadata": {},
   "outputs": [
    {
     "name": "stdout",
     "output_type": "stream",
     "text": [
      "              precision    recall  f1-score   support\n",
      "\n",
      "           0       0.69      0.80      0.74      6673\n",
      "           1       0.76      0.64      0.69      6607\n",
      "\n",
      "    accuracy                           0.72     13280\n",
      "   macro avg       0.72      0.72      0.72     13280\n",
      "weighted avg       0.72      0.72      0.72     13280\n",
      "\n"
     ]
    }
   ],
   "source": [
    "print(classification_report(y_raw_val, y_raw_std_pred))"
   ]
  },
  {
   "attachments": {},
   "cell_type": "markdown",
   "metadata": {},
   "source": [
    "### Non-Categorical Normalized"
   ]
  },
  {
   "cell_type": "code",
   "execution_count": 16,
   "metadata": {},
   "outputs": [
    {
     "name": "stdout",
     "output_type": "stream",
     "text": [
      "              precision    recall  f1-score   support\n",
      "\n",
      "           0       0.86      0.16      0.27      6673\n",
      "           1       0.53      0.97      0.69      6607\n",
      "\n",
      "    accuracy                           0.57     13280\n",
      "   macro avg       0.70      0.57      0.48     13280\n",
      "weighted avg       0.70      0.57      0.48     13280\n",
      "\n"
     ]
    }
   ],
   "source": [
    "print(classification_report(y_raw_val, y_raw_minmax_pred))"
   ]
  },
  {
   "attachments": {},
   "cell_type": "markdown",
   "metadata": {},
   "source": [
    "# Plotting Performance"
   ]
  },
  {
   "cell_type": "code",
   "execution_count": 17,
   "metadata": {},
   "outputs": [
    {
     "data": {
      "image/png": "[encoded data removed]",
      "text/plain": [
       "<Figure size 1000x600 with 8 Axes>"
      ]
     },
     "metadata": {},
     "output_type": "display_data"
    }
   ],
   "source": [
    "# variables to plot\n",
    "ys = [y_cat_val, y_cat_val, y_raw_val, y_raw_val]\n",
    "y_preds = [y_cat_std_pred, y_cat_minmax_pred, y_raw_std_pred, y_raw_minmax_pred]\n",
    "\n",
    "# using evaluation plot function from scripts\n",
    "fig = evaluate_predictions_plot(ys, y_preds, \"Logistic Regression Dataset Evaluation Comparison\")"
   ]
  },
  {
   "attachments": {},
   "cell_type": "markdown",
   "metadata": {},
   "source": [
    "# Selecting Dataset and Scaling\n",
    "\n",
    "### Looking at the 4 different versions of the dataset across all 4 models:\n",
    "\n",
    "The Non-Categorical dataset is consistently giving better results on validation data so those will be the chosen features  \n",
    "When it comes to scaling the results are equally good across all models, except for Logistic Regression which gives much worse results on normalized data. Therefore standardization will be the chosen scaler  \n",
    "\n",
    "As such, the chosen model is Non-Categorical Standardized"
   ]
  },
  {
   "cell_type": "code",
   "execution_count": 18,
   "metadata": {},
   "outputs": [
    {
     "data": {
      "text/plain": [
       "['models/best_lr.pkl']"
      ]
     },
     "execution_count": 18,
     "metadata": {},
     "output_type": "execute_result"
    }
   ],
   "source": [
    "joblib.dump(grid_search_raw_std.best_estimator_, \"models/best_lr.pkl\")"
   ]
  }
 ],
 "metadata": {
  "kernelspec": {
   "display_name": "disease_prediction-YIxnrnW5",
   "language": "python",
   "name": "python3"
  },
  "language_info": {
   "codemirror_mode": {
    "name": "ipython",
    "version": 3
   },
   "file_extension": ".py",
   "mimetype": "text/x-python",
   "name": "python",
   "nbconvert_exporter": "python",
   "pygments_lexer": "ipython3",
   "version": "3.9.13"
  },
  "orig_nbformat": 4
 },
 "nbformat": 4,
 "nbformat_minor": 2
}
