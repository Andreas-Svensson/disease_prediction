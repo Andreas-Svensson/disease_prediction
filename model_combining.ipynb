{
 "cells": [
  {
   "cell_type": "code",
   "execution_count": 1,
   "metadata": {},
   "outputs": [],
   "source": [
    "import joblib\n",
    "import pandas as pd\n",
    "import numpy as np\n",
    "import matplotlib.pyplot as plt\n",
    "\n",
    "from split_data import X_raw_train, X_raw_val, X_raw_test, y_raw_train, y_raw_val, y_raw_test\n",
    "\n",
    "from sklearn.pipeline import Pipeline\n",
    "from sklearn.preprocessing import StandardScaler\n",
    "from sklearn.ensemble import VotingClassifier\n",
    "from sklearn.metrics import classification_report, ConfusionMatrixDisplay, confusion_matrix"
   ]
  },
  {
   "attachments": {},
   "cell_type": "markdown",
   "metadata": {},
   "source": [
    "# Set up Data\n",
    "\n",
    "### Combining previous train and val data into one dataset"
   ]
  },
  {
   "cell_type": "code",
   "execution_count": 2,
   "metadata": {},
   "outputs": [
    {
     "data": {
      "text/plain": [
       "((53120, 11), (53120,))"
      ]
     },
     "execution_count": 2,
     "metadata": {},
     "output_type": "execute_result"
    }
   ],
   "source": [
    "X_train = pd.concat([X_raw_train, X_raw_val])\n",
    "y_train = pd.concat([y_raw_train, y_raw_val])\n",
    "\n",
    "X_train.shape, y_train.shape"
   ]
  },
  {
   "attachments": {},
   "cell_type": "markdown",
   "metadata": {},
   "source": [
    "### Sampling 100 datapoints for later use"
   ]
  },
  {
   "cell_type": "code",
   "execution_count": 3,
   "metadata": {},
   "outputs": [],
   "source": [
    "# resetting index to allow for accessing rows by index\n",
    "X_raw_test.reset_index(drop = True, inplace = True)\n",
    "y_raw_test.reset_index(drop = True, inplace = True)\n",
    "\n",
    "# pick out 100 datapoints from test data for use later with production model\n",
    "random_indices = np.random.choice(len(X_raw_test), 100, replace = False)\n",
    "\n",
    "# set aside samples for later\n",
    "X_sample = X_raw_test.iloc[random_indices].reset_index(drop = True)\n",
    "y_sample = y_raw_test.iloc[random_indices].reset_index(drop = True)\n",
    "\n",
    "# make dataframe of samples\n",
    "samples = pd.concat([X_sample, y_sample], axis = 1)\n",
    "\n",
    "# save samples to file (used in production_model.py for final predictions)\n",
    "samples.to_csv(\"assets/test_samples.csv\", index = False)\n",
    "\n",
    "# finally drop samples from test data\n",
    "X_test = X_raw_test.drop(index = random_indices)\n",
    "y_test = y_raw_test.drop(index = random_indices)"
   ]
  },
  {
   "attachments": {},
   "cell_type": "markdown",
   "metadata": {},
   "source": [
    "# Load in Models"
   ]
  },
  {
   "cell_type": "code",
   "execution_count": 4,
   "metadata": {},
   "outputs": [],
   "source": [
    "best_lr = joblib.load(\"models/best_lr.pkl\")\n",
    "best_rf = joblib.load(\"models/best_rf.pkl\")\n",
    "best_knn = joblib.load(\"models/best_knn.pkl\")"
   ]
  },
  {
   "attachments": {},
   "cell_type": "markdown",
   "metadata": {},
   "source": [
    "# Set up Pipeline\n",
    "\n",
    "### Define steps"
   ]
  },
  {
   "cell_type": "code",
   "execution_count": 5,
   "metadata": {},
   "outputs": [],
   "source": [
    "steps = [(\"scaler\", StandardScaler()), # scale using scaler determined to be best\n",
    "         (\"voting\", VotingClassifier(estimators = [\n",
    "             (\"model_logistic\", best_lr), # vote based on all 3 models\n",
    "             (\"model_forest\", best_rf), \n",
    "             (\"model_knn\", best_knn)],\n",
    "             voting = \"soft\"\n",
    "        ))]"
   ]
  },
  {
   "attachments": {},
   "cell_type": "markdown",
   "metadata": {},
   "source": [
    "### Create pipeline"
   ]
  },
  {
   "cell_type": "code",
   "execution_count": 6,
   "metadata": {},
   "outputs": [],
   "source": [
    "pipeline = Pipeline(steps)"
   ]
  },
  {
   "attachments": {},
   "cell_type": "markdown",
   "metadata": {},
   "source": [
    "# Fit and Make Predictions"
   ]
  },
  {
   "cell_type": "code",
   "execution_count": 7,
   "metadata": {},
   "outputs": [
    {
     "name": "stderr",
     "output_type": "stream",
     "text": [
      "c:\\Users\\Andre\\.virtualenvs\\disease_prediction-YIxnrnW5\\lib\\site-packages\\sklearn\\linear_model\\_sag.py:350: ConvergenceWarning: The max_iter was reached which means the coef_ did not converge\n",
      "  warnings.warn(\n"
     ]
    }
   ],
   "source": [
    "pipeline.fit(X_train, y_train)\n",
    "y_pred = pipeline.predict(X_test)"
   ]
  },
  {
   "attachments": {},
   "cell_type": "markdown",
   "metadata": {},
   "source": [
    "# Evaluate Model"
   ]
  },
  {
   "cell_type": "code",
   "execution_count": 8,
   "metadata": {},
   "outputs": [
    {
     "name": "stdout",
     "output_type": "stream",
     "text": [
      "              precision    recall  f1-score   support\n",
      "\n",
      "           0       0.72      0.77      0.74      6670\n",
      "           1       0.74      0.69      0.72      6510\n",
      "\n",
      "    accuracy                           0.73     13180\n",
      "   macro avg       0.73      0.73      0.73     13180\n",
      "weighted avg       0.73      0.73      0.73     13180\n",
      "\n"
     ]
    }
   ],
   "source": [
    "print(classification_report(y_test, y_pred))"
   ]
  },
  {
   "cell_type": "code",
   "execution_count": 9,
   "metadata": {},
   "outputs": [
    {
     "data": {
      "image/png": "[encoded data removed]",
      "text/plain": [
       "<Figure size 640x480 with 2 Axes>"
      ]
     },
     "metadata": {},
     "output_type": "display_data"
    }
   ],
   "source": [
    "cm = confusion_matrix(y_test, y_pred)\n",
    "ConfusionMatrixDisplay(cm, display_labels = [\"No\", \"Yes\"]).plot()\n",
    "plt.suptitle(\"Voting Classifier Results\");"
   ]
  },
  {
   "attachments": {},
   "cell_type": "markdown",
   "metadata": {},
   "source": [
    "# Finally, train on all data\n",
    "\n",
    "### (Except the 100 samples)"
   ]
  },
  {
   "cell_type": "code",
   "execution_count": 10,
   "metadata": {},
   "outputs": [
    {
     "data": {
      "text/plain": [
       "((66300, 11), (66300,))"
      ]
     },
     "execution_count": 10,
     "metadata": {},
     "output_type": "execute_result"
    }
   ],
   "source": [
    "# combine train and test\n",
    "X = pd.concat([X_train, X_test])\n",
    "y = pd.concat([y_train, y_test])\n",
    "\n",
    "X.shape, y.shape"
   ]
  },
  {
   "cell_type": "code",
   "execution_count": 11,
   "metadata": {},
   "outputs": [
    {
     "name": "stderr",
     "output_type": "stream",
     "text": [
      "c:\\Users\\Andre\\.virtualenvs\\disease_prediction-YIxnrnW5\\lib\\site-packages\\sklearn\\linear_model\\_sag.py:350: ConvergenceWarning: The max_iter was reached which means the coef_ did not converge\n",
      "  warnings.warn(\n"
     ]
    },
    {
     "name": "stdout",
     "output_type": "stream",
     "text": [
      "Pipeline(steps=[('scaler', StandardScaler()),\n",
      "                ('voting',\n",
      "                 VotingClassifier(estimators=[('model_logistic',\n",
      "                                               LogisticRegression(C=0.5,\n",
      "                                                                  max_iter=4,\n",
      "                                                                  random_state=42,\n",
      "                                                                  solver='sag')),\n",
      "                                              ('model_forest',\n",
      "                                               RandomForestClassifier(criterion='entropy',\n",
      "                                                                      max_features=None,\n",
      "                                                                      random_state=42)),\n",
      "                                              ('model_knn',\n",
      "                                               KNeighborsClassifier(algorithm='ball_tree',\n",
      "                                                                    n_neighbors=100))],\n",
      "                                  voting='soft'))])\n"
     ]
    }
   ],
   "source": [
    "# fit on full dataset\n",
    "pipeline.fit(X, y)\n",
    "\n",
    "print(pipeline) # show the steps of the pipeline"
   ]
  },
  {
   "attachments": {},
   "cell_type": "markdown",
   "metadata": {},
   "source": [
    "# Save Model"
   ]
  },
  {
   "cell_type": "code",
   "execution_count": 12,
   "metadata": {},
   "outputs": [
    {
     "data": {
      "text/plain": [
       "['models/final_model.pkl']"
      ]
     },
     "execution_count": 12,
     "metadata": {},
     "output_type": "execute_result"
    }
   ],
   "source": [
    "joblib.dump(pipeline, \"models/final_model.pkl\")"
   ]
  }
 ],
 "metadata": {
  "kernelspec": {
   "display_name": "disease_prediction-YIxnrnW5",
   "language": "python",
   "name": "python3"
  },
  "language_info": {
   "codemirror_mode": {
    "name": "ipython",
    "version": 3
   },
   "file_extension": ".py",
   "mimetype": "text/x-python",
   "name": "python",
   "nbconvert_exporter": "python",
   "pygments_lexer": "ipython3",
   "version": "3.9.13"
  },
  "orig_nbformat": 4
 },
 "nbformat": 4,
 "nbformat_minor": 2
}
